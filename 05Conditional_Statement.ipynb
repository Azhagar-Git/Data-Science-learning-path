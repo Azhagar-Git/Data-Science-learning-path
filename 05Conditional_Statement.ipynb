{
 "cells": [
  {
   "cell_type": "markdown",
   "id": "c3c4b0fc",
   "metadata": {},
   "source": [
    "### if, elif, else"
   ]
  },
  {
   "cell_type": "code",
   "execution_count": 12,
   "id": "db48a425",
   "metadata": {},
   "outputs": [
    {
     "name": "stdout",
     "output_type": "stream",
     "text": [
      "not Allow\n"
     ]
    }
   ],
   "source": [
    "Age=int(input('Enter ur age: '))\n",
    "\n",
    "if Age>18:\n",
    "    print('allow')\n",
    "else:\n",
    "    print(\"not Allow\")\n",
    "\n",
    "\n",
    "#18 thandha not allow tha varum"
   ]
  },
  {
   "cell_type": "code",
   "execution_count": 15,
   "id": "ca21ea80",
   "metadata": {},
   "outputs": [
    {
     "name": "stdout",
     "output_type": "stream",
     "text": [
      "not allow\n"
     ]
    }
   ],
   "source": [
    "Age=int(input('Enter ur age: '))\n",
    "\n",
    "if Age>=18 and Age<=60:\n",
    "    print('allow')\n",
    "else:\n",
    "    print(\"not allow\")"
   ]
  },
  {
   "cell_type": "code",
   "execution_count": 18,
   "id": "7d720b11",
   "metadata": {},
   "outputs": [
    {
     "name": "stdout",
     "output_type": "stream",
     "text": [
      "pass\n"
     ]
    }
   ],
   "source": [
    "Mark=int(input('Enter ur mark: '))\n",
    "\n",
    "if Mark>=35:\n",
    "    print('pass')\n",
    "else:\n",
    "    print('fail')"
   ]
  },
  {
   "cell_type": "code",
   "execution_count": 14,
   "id": "7daac98f",
   "metadata": {},
   "outputs": [
    {
     "name": "stdout",
     "output_type": "stream",
     "text": [
      "Azhagar  Your Mark is 35 And you are Fail\n"
     ]
    }
   ],
   "source": [
    "# 100 - 91 Doctor, 90-81 Engineer, 80-71 Ats, 70-41 Diploma 40-0 Fail\n",
    "# Neet > 90 Doctor Eligible\n",
    "\n",
    "\n",
    "Name=input(\"Enter Your Name:\")\n",
    "Mark=int(input(\"Enter Your Mark:\"))\n",
    "\n",
    "\n",
    "\n",
    "if Mark>=91 and Mark<=100:\n",
    "  Neet=int(input(\"Enter Your Neet Score:\"))\n",
    "  if Neet>=90:\n",
    "    print(f\"{Name} Your Mark is {Mark} And you Neet Score {Neet} Since You are Eligible for Doctor\")\n",
    "  else:\n",
    "    print(f\"{Name} Your Mark is {Mark} And you Neet Score {Neet} Since You are Not Eligible for Doctor You Can Try for Other Courses\")\n",
    "\n",
    "\n",
    "elif Mark>=81 and Mark<=90:\n",
    "  print(f\"{Name} Your Mark is {Mark} And you are Eligible for Engineer\")\n",
    "\n",
    "elif Mark>=71 and Mark<=80:\n",
    "  print(f\"{Name} Your Mark is {Mark} And you are Eligible for Ats\")\n",
    "\n",
    "elif Mark>=41 and Mark<=70:\n",
    "  print(f\"{Name} Your Mark is {Mark} And you are Eligible for Diploma\")\n",
    "\n",
    "else:\n",
    "  print(f\"{Name} Your Mark is {Mark} And you are Fail\")\n",
    "\n",
    "\n"
   ]
  },
  {
   "cell_type": "code",
   "execution_count": null,
   "id": "deddde76",
   "metadata": {},
   "outputs": [],
   "source": []
  }
 ],
 "metadata": {
  "kernelspec": {
   "display_name": "Python 3",
   "language": "python",
   "name": "python3"
  },
  "language_info": {
   "codemirror_mode": {
    "name": "ipython",
    "version": 3
   },
   "file_extension": ".py",
   "mimetype": "text/x-python",
   "name": "python",
   "nbconvert_exporter": "python",
   "pygments_lexer": "ipython3",
   "version": "3.12.10"
  }
 },
 "nbformat": 4,
 "nbformat_minor": 5
}
