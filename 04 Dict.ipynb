{
 "cells": [
  {
   "cell_type": "markdown",
   "id": "3df9a781",
   "metadata": {},
   "source": [
    "## Dict\n",
    "\n",
    "{Key : Value}. # Key Unique, Value Can Duplicate\n",
    " \n",
    " Curely Bracis Bracket { }\n",
    "\n",
    " Order\n",
    "\n",
    " Key only Access\n",
    "\n",
    "## Only ASSIGN ' ' {QUOTATION SYMBOL}\n",
    " "
   ]
  },
  {
   "cell_type": "code",
   "execution_count": null,
   "id": "9f6ec0d9",
   "metadata": {},
   "outputs": [],
   "source": [
    "Emp={'Name':'Raja'} # only string or Int / no varible access ex. name= strictly no /\n",
    "              # ONLY ASSIGN ' ' "
   ]
  },
  {
   "cell_type": "code",
   "execution_count": 2,
   "id": "e706b6b9",
   "metadata": {},
   "outputs": [],
   "source": [
    "Emp={'Name':'Raja',\n",
    "     'Age':30,\n",
    "     'Income':30000} "
   ]
  },
  {
   "cell_type": "code",
   "execution_count": null,
   "id": "eb6465eb",
   "metadata": {},
   "outputs": [
    {
     "data": {
      "text/plain": [
       "{'Name': 'Raja', 'Age': 30, 'Income': 30000, 'mobile': 80880}"
      ]
     },
     "execution_count": 4,
     "metadata": {},
     "output_type": "execute_result"
    }
   ],
   "source": [
    "Emp['mobile']=80880 # Given Qutotion\n",
    "Emp"
   ]
  },
  {
   "cell_type": "code",
   "execution_count": 5,
   "id": "95586c5b",
   "metadata": {},
   "outputs": [
    {
     "data": {
      "text/plain": [
       "{'EmpID': [44, 55, 67, 21, 7, 8, 19, 27],\n",
       " 'Name': ['Rajesh',\n",
       "  'Kumar',\n",
       "  'Kamal',\n",
       "  'Saran',\n",
       "  'Karthick',\n",
       "  'Iswarya',\n",
       "  'Divya',\n",
       "  'David'],\n",
       " 'Designation': ['Developer',\n",
       "  'Tester',\n",
       "  'TeamLead',\n",
       "  'Manager',\n",
       "  'Jr.Developer',\n",
       "  'Accontant',\n",
       "  'HR',\n",
       "  'Admin'],\n",
       " 'Salary': [25000, 30000, 45000, 60000, 20000, 22000, 15000, 28000]}"
      ]
     },
     "execution_count": 5,
     "metadata": {},
     "output_type": "execute_result"
    }
   ],
   "source": [
    "Guvi_Emp={\n",
    "    'EmpID': [44,55,67,21,7,8,19,27],\n",
    "    'Name':['Rajesh','Kumar','Kamal','Saran','Karthick','Iswarya','Divya','David'],\n",
    "    'Designation':['Developer','Tester','TeamLead','Manager','Jr.Developer','Accontant','HR','Admin'],\n",
    "    'Salary': [25000,30000,45000,60000,20000,22000,15000,28000],}\n",
    "\n",
    "Guvi_Emp"
   ]
  },
  {
   "cell_type": "code",
   "execution_count": 22,
   "id": "de893e79",
   "metadata": {},
   "outputs": [
    {
     "name": "stdout",
     "output_type": "stream",
     "text": [
      "EmpID-------> 7\n"
     ]
    }
   ],
   "source": [
    "print(f\"EmpID-------> {Guvi_Emp['EmpID'][4]}\")  # EmpID-------> string la enna nama print pannanum nama tharadhu"
   ]
  },
  {
   "cell_type": "code",
   "execution_count": 25,
   "id": "c2c58ff3",
   "metadata": {},
   "outputs": [
    {
     "name": "stdout",
     "output_type": "stream",
     "text": [
      "Id card----->  7\n",
      "Name----->  Karthick\n",
      "Des----->  Jr.Developer\n",
      "Salary-----> 20000\n"
     ]
    }
   ],
   "source": [
    "print(f\"Id card----->  {Guvi_Emp['EmpID'][4]}\")\n",
    "print(f\"Name----->  {Guvi_Emp['Name'][4]}\")\n",
    "print(f\"Des----->  {Guvi_Emp['Designation'][4]}\")\n",
    "print(f\"Salary-----> {Guvi_Emp[\"Salary\"][4]}\")"
   ]
  },
  {
   "cell_type": "code",
   "execution_count": 27,
   "id": "973959a6",
   "metadata": {},
   "outputs": [
    {
     "name": "stdout",
     "output_type": "stream",
     "text": [
      "<class 'list'>\n"
     ]
    }
   ],
   "source": [
    "print(type([44,55,67,21,7,8,19,27]))"
   ]
  },
  {
   "cell_type": "code",
   "execution_count": 52,
   "id": "aab8b723",
   "metadata": {},
   "outputs": [
    {
     "ename": "ValueError",
     "evalue": "'55' is not in list",
     "output_type": "error",
     "traceback": [
      "\u001b[31m---------------------------------------------------------------------------\u001b[39m",
      "\u001b[31mValueError\u001b[39m                                Traceback (most recent call last)",
      "\u001b[36mCell\u001b[39m\u001b[36m \u001b[39m\u001b[32mIn[52]\u001b[39m\u001b[32m, line 2\u001b[39m\n\u001b[32m      1\u001b[39m User_EmpId=\u001b[38;5;28mint\u001b[39m(\u001b[38;5;28minput\u001b[39m(\u001b[33m\"\u001b[39m\u001b[33menter the Emp_id_num: \u001b[39m\u001b[33m\"\u001b[39m))\n\u001b[32m----> \u001b[39m\u001b[32m2\u001b[39m pos=\u001b[43mGuvi_Emp\u001b[49m\u001b[43m[\u001b[49m\u001b[33;43m'\u001b[39;49m\u001b[33;43mEmpID\u001b[39;49m\u001b[33;43m'\u001b[39;49m\u001b[43m]\u001b[49m\u001b[43m.\u001b[49m\u001b[43mindex\u001b[49m\u001b[43m(\u001b[49m\u001b[43muser_EmpId\u001b[49m\u001b[43m)\u001b[49m\n\u001b[32m      3\u001b[39m pos\n",
      "\u001b[31mValueError\u001b[39m: '55' is not in list"
     ]
    }
   ],
   "source": [
    "User_EmpId=int(input(\"enter the Emp_id_num: \"))\n",
    "pos=Guvi_Emp['EmpID'].index(user_EmpId)\n",
    "pos"
   ]
  },
  {
   "cell_type": "code",
   "execution_count": null,
   "id": "8aa0508c",
   "metadata": {},
   "outputs": [],
   "source": [
    "#User_Emp_Id=int(input(\"Enter the Emp_Id: \"))\n",
    "#pos=Guvi_Emp['EmpID'].index(User_Emp_Id)\n",
    "#pos"
   ]
  }
 ],
 "metadata": {
  "kernelspec": {
   "display_name": "Python 3",
   "language": "python",
   "name": "python3"
  },
  "language_info": {
   "codemirror_mode": {
    "name": "ipython",
    "version": 3
   },
   "file_extension": ".py",
   "mimetype": "text/x-python",
   "name": "python",
   "nbconvert_exporter": "python",
   "pygments_lexer": "ipython3",
   "version": "3.12.10"
  }
 },
 "nbformat": 4,
 "nbformat_minor": 5
}
