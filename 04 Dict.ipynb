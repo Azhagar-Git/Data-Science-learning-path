{
 "cells": [
  {
   "cell_type": "markdown",
   "id": "3df9a781",
   "metadata": {},
   "source": [
    "## Dict\n",
    "\n",
    "{Key : Value}. # Key Unique, Value Can Duplicate\n",
    " \n",
    " Curely Bracis Bracket { }\n",
    "\n",
    " Order\n",
    "\n",
    " Key only Access\n",
    "\n",
    "## Only ASSIGN ' ' {QUOTATION SYMBOL}\n",
    " "
   ]
  },
  {
   "cell_type": "markdown",
   "id": "f66b5867",
   "metadata": {},
   "source": [
    "### Functions     (mostly used {Get, key, values, items})\n",
    "#### 'clear' = Clear Dummy\n",
    "####  'copy' = org not affect\n",
    "####  'fromkeys' = keys oda values mingle pannum like Key : value / values evlo iruku adhu madhiri assign\n",
    "####  'get' = Key Base panni Values Results ah tharum\n",
    "####  'items' = key & value mingle (Results Tuple of list (Tuple Didn't change it))\n",
    "####  'keys' = only show the keys\n",
    "####  'pop', = Given Key (Remove key and Values)\n",
    "#### 'popitem', = Last Element (key:Value) Remove\n",
    "####  'setdefault' = Create Dummy value or Same name add\n",
    "####  'update', = Add on key:Value\n",
    "#### 'values = only show the values"
   ]
  },
  {
   "cell_type": "code",
   "execution_count": 75,
   "id": "9f6ec0d9",
   "metadata": {},
   "outputs": [],
   "source": [
    "Emp={'Name':'Raja'} # only string or Int / no varible access ex. name= strictly no /\n",
    "              # ONLY ASSIGN ' ' "
   ]
  },
  {
   "cell_type": "code",
   "execution_count": 76,
   "id": "e706b6b9",
   "metadata": {},
   "outputs": [],
   "source": [
    "Emp={'Name':'Raja',\n",
    "     'Age':30,\n",
    "     'Income':30000} "
   ]
  },
  {
   "cell_type": "code",
   "execution_count": 77,
   "id": "eb6465eb",
   "metadata": {},
   "outputs": [
    {
     "data": {
      "text/plain": [
       "{'Name': 'Raja', 'Age': 30, 'Income': 30000, 'mobile': 80880}"
      ]
     },
     "execution_count": 77,
     "metadata": {},
     "output_type": "execute_result"
    }
   ],
   "source": [
    "Emp['mobile']=80880 # Given Qutotion\n",
    "Emp"
   ]
  },
  {
   "cell_type": "code",
   "execution_count": 78,
   "id": "95586c5b",
   "metadata": {},
   "outputs": [
    {
     "data": {
      "text/plain": [
       "{'EmpID': [44, 55, 67, 21, 7, 8, 19, 27],\n",
       " 'Name': ['Rajesh',\n",
       "  'Kumar',\n",
       "  'Kamal',\n",
       "  'Saran',\n",
       "  'Karthick',\n",
       "  'Iswarya',\n",
       "  'Divya',\n",
       "  'David'],\n",
       " 'Designation': ['Developer',\n",
       "  'Tester',\n",
       "  'TeamLead',\n",
       "  'Manager',\n",
       "  'Jr.Developer',\n",
       "  'Accontant',\n",
       "  'HR',\n",
       "  'Admin'],\n",
       " 'Salary': [25000, 30000, 45000, 60000, 20000, 22000, 15000, 28000]}"
      ]
     },
     "execution_count": 78,
     "metadata": {},
     "output_type": "execute_result"
    }
   ],
   "source": [
    "Guvi_Emp={\n",
    "    'EmpID': [44,55,67,21,7,8,19,27],\n",
    "    'Name':['Rajesh','Kumar','Kamal','Saran','Karthick','Iswarya','Divya','David'],\n",
    "    'Designation':['Developer','Tester','TeamLead','Manager','Jr.Developer','Accontant','HR','Admin'],\n",
    "    'Salary': [25000,30000,45000,60000,20000,22000,15000,28000],}\n",
    "\n",
    "Guvi_Emp"
   ]
  },
  {
   "cell_type": "code",
   "execution_count": 79,
   "id": "de893e79",
   "metadata": {},
   "outputs": [
    {
     "name": "stdout",
     "output_type": "stream",
     "text": [
      "EmpID-------> 7\n"
     ]
    }
   ],
   "source": [
    "print(f\"EmpID-------> {Guvi_Emp['EmpID'][4]}\")  # EmpID-------> string la enna nama print pannanum nama tharadhu"
   ]
  },
  {
   "cell_type": "code",
   "execution_count": 80,
   "id": "c2c58ff3",
   "metadata": {},
   "outputs": [
    {
     "name": "stdout",
     "output_type": "stream",
     "text": [
      "Id card----->  7\n",
      "Name----->  Karthick\n",
      "Des----->  Jr.Developer\n",
      "Salary-----> 20000\n"
     ]
    }
   ],
   "source": [
    "print(f\"Id card----->  {Guvi_Emp['EmpID'][4]}\")\n",
    "print(f\"Name----->  {Guvi_Emp['Name'][4]}\")\n",
    "print(f\"Des----->  {Guvi_Emp['Designation'][4]}\")\n",
    "print(f\"Salary-----> {Guvi_Emp[\"Salary\"][4]}\")"
   ]
  },
  {
   "cell_type": "code",
   "execution_count": 81,
   "id": "973959a6",
   "metadata": {},
   "outputs": [
    {
     "name": "stdout",
     "output_type": "stream",
     "text": [
      "<class 'list'>\n"
     ]
    }
   ],
   "source": [
    "print(type([44,55,67,21,7,8,19,27]))"
   ]
  },
  {
   "cell_type": "code",
   "execution_count": 84,
   "id": "aab8b723",
   "metadata": {},
   "outputs": [
    {
     "name": "stdout",
     "output_type": "stream",
     "text": [
      " Empid Num ------> 19\n",
      " Name ------> Divya\n",
      " Des------> HR\n",
      "salary-----> 15000\n"
     ]
    }
   ],
   "source": [
    "put_EmpId=int(input(\"enter the Emp_id_num: \"))\n",
    "pos=Guvi_Emp['EmpID'].index(put_EmpId)\n",
    "pos\n",
    "\n",
    "\n",
    "\n",
    "print(f\" Empid Num ------> {Guvi_Emp['EmpID'][pos]}\")\n",
    "print(f\" Name ------> {Guvi_Emp['Name'][pos]}\")\n",
    "print(f\" Des------> {Guvi_Emp['Designation'][pos]}\")\n",
    "print(F\"salary-----> {Guvi_Emp['Salary'][pos]}\")"
   ]
  },
  {
   "cell_type": "code",
   "execution_count": null,
   "id": "8aa0508c",
   "metadata": {},
   "outputs": [
    {
     "data": {
      "text/plain": [
       "4"
      ]
     },
     "execution_count": 59,
     "metadata": {},
     "output_type": "execute_result"
    }
   ],
   "source": [
    "Guvi_Emp['Name'].index('Karthick')"
   ]
  },
  {
   "cell_type": "code",
   "execution_count": null,
   "id": "4b95b32f",
   "metadata": {},
   "outputs": [
    {
     "name": "stdout",
     "output_type": "stream",
     "text": [
      " Empid---------> 19\n",
      " emp name-----> Divya\n"
     ]
    }
   ],
   "source": [
    "# empid_num=int(input('empid_num: '))\n",
    "# Post=Guvi_Emp['EmpID'].index(empid_num)\n",
    "# Post\n",
    "\n",
    "\n",
    "# print(f\" Empid---------> {Guvi_Emp['EmpID'][Post]}\")\n",
    "# print(f\" emp name-----> {Guvi_Emp[\"Name\"][Post]}\")"
   ]
  },
  {
   "cell_type": "code",
   "execution_count": null,
   "id": "94480460",
   "metadata": {},
   "outputs": [
    {
     "data": {
      "text/plain": [
       "3"
      ]
     },
     "execution_count": 70,
     "metadata": {},
     "output_type": "execute_result"
    }
   ],
   "source": [
    "Guvi_Emp['Name'].index('Saran')"
   ]
  },
  {
   "cell_type": "code",
   "execution_count": 83,
   "id": "4c3b7814",
   "metadata": {},
   "outputs": [
    {
     "data": {
      "text/plain": [
       "{'Name': None, 'Age': None, 'Salary': None}"
      ]
     },
     "execution_count": 83,
     "metadata": {},
     "output_type": "execute_result"
    }
   ],
   "source": [
    "# fromkeys\n",
    "\n",
    "Keys=[\"Name\",\"Age\",\"Salary\"]\n",
    "Values=None\n",
    "\n",
    "Emp=dict.fromkeys(Keys,Values)\n",
    "Emp"
   ]
  },
  {
   "cell_type": "code",
   "execution_count": 8,
   "id": "e00b19a2",
   "metadata": {},
   "outputs": [
    {
     "data": {
      "text/plain": [
       "{}"
      ]
     },
     "execution_count": 8,
     "metadata": {},
     "output_type": "execute_result"
    }
   ],
   "source": [
    "# Clear\n",
    "\n",
    "Dummy={\"Name\":\"Ram\",\n",
    "       \"Age\":25}\n",
    "\n",
    "Dummy.clear()\n",
    "Dummy\n"
   ]
  },
  {
   "cell_type": "code",
   "execution_count": 7,
   "id": "3471f8e4",
   "metadata": {},
   "outputs": [
    {
     "data": {
      "text/plain": [
       "{'Name': None, 'Age': None, 'Salary': None}"
      ]
     },
     "execution_count": 7,
     "metadata": {},
     "output_type": "execute_result"
    }
   ],
   "source": [
    "# fromkeys\n",
    "\n",
    "Keys=[\"Name\",\"Age\",\"Salary\"]\n",
    "Values=None\n",
    "\n",
    "Emp=dict.fromkeys(Keys,Values)\n",
    "Emp\n"
   ]
  },
  {
   "cell_type": "code",
   "execution_count": 6,
   "id": "4e52bcd8",
   "metadata": {},
   "outputs": [
    {
     "data": {
      "text/plain": [
       "dict_items([('Name', 'Raja'), ('Age', 30), ('Income', 30000)])"
      ]
     },
     "execution_count": 6,
     "metadata": {},
     "output_type": "execute_result"
    }
   ],
   "source": [
    "#Items\n",
    "Emp={'Name':'Raja',\n",
    "     'Age':30,\n",
    "     'Income':30000} # It Allow Duplicate in Value But Not in Keys, Mutable, Order\n",
    "Emp.items()"
   ]
  },
  {
   "cell_type": "code",
   "execution_count": 4,
   "id": "ba75e177",
   "metadata": {},
   "outputs": [
    {
     "data": {
      "text/plain": [
       "dict_keys(['Name', 'Age', 'Income'])"
      ]
     },
     "execution_count": 4,
     "metadata": {},
     "output_type": "execute_result"
    }
   ],
   "source": [
    "# Keys\n",
    "Emp={'Name':'Raja',\n",
    "     'Age':30,\n",
    "     'Income':30000} # It Allow Duplicate in Value But Not in Keys, Mutable, Order\n",
    "Emp.keys()"
   ]
  },
  {
   "cell_type": "code",
   "execution_count": 5,
   "id": "078ac480",
   "metadata": {},
   "outputs": [
    {
     "data": {
      "text/plain": [
       "dict_values(['Raja', 30, 30000])"
      ]
     },
     "execution_count": 5,
     "metadata": {},
     "output_type": "execute_result"
    }
   ],
   "source": [
    "# Values\n",
    "Emp={'Name':'Raja',\n",
    "     'Age':30,\n",
    "     'Income':30000} # It Allow Duplicate in Value But Not in Keys, Mutable, Order\n",
    "Emp.values()"
   ]
  },
  {
   "cell_type": "code",
   "execution_count": 9,
   "id": "071a6f55",
   "metadata": {},
   "outputs": [],
   "source": [
    "Guvi_Emp={\n",
    "    'EmpID': [44,55,67,21,7,8,19,27],\n",
    "    'Name':['Rajesh','Kumar','Kamal','Saran','Karthick','Iswarya','Divya','David'],\n",
    "    'Designation':['Developer','Tester','TeamLead','Manager','Jr.Developer','Accontant','HR','Admin'],\n",
    "    'Salary': [25000,30000,45000,60000,20000,22000,15000,28000],}"
   ]
  },
  {
   "cell_type": "code",
   "execution_count": 12,
   "id": "2e90529d",
   "metadata": {},
   "outputs": [
    {
     "name": "stdout",
     "output_type": "stream",
     "text": [
      "emp_id----> 27\n",
      "EmpName----> David\n"
     ]
    }
   ],
   "source": [
    "user_id=int(input(\"enter_emp_id: \"))\n",
    "place=Guvi_Emp['EmpID'].index(user_id)\n",
    "place\n",
    "\n",
    "print(f\"emp_id----> {Guvi_Emp['EmpID'][place]}\")\n",
    "print(f\"EmpName----> {Guvi_Emp['Name'][place]}\")"
   ]
  },
  {
   "cell_type": "code",
   "execution_count": 15,
   "id": "0d20205a",
   "metadata": {},
   "outputs": [
    {
     "data": {
      "text/plain": [
       "30"
      ]
     },
     "execution_count": 15,
     "metadata": {},
     "output_type": "execute_result"
    }
   ],
   "source": [
    "# Pop\n",
    "\n",
    "Emp={'Name':'Raja',\n",
    "     'Age':30,\n",
    "     'Income':30000} # It Allow Duplicate in Value But Not in Keys, Mutable, Order\n",
    "Emp.pop('Age')"
   ]
  },
  {
   "cell_type": "code",
   "execution_count": 16,
   "id": "1c06b13a",
   "metadata": {},
   "outputs": [
    {
     "data": {
      "text/plain": [
       "('Income', 30000)"
      ]
     },
     "execution_count": 16,
     "metadata": {},
     "output_type": "execute_result"
    }
   ],
   "source": [
    "Emp.popitem()"
   ]
  },
  {
   "cell_type": "code",
   "execution_count": 17,
   "id": "6f1f41b6",
   "metadata": {},
   "outputs": [
    {
     "data": {
      "text/plain": [
       "{'Name': 'Raja'}"
      ]
     },
     "execution_count": 17,
     "metadata": {},
     "output_type": "execute_result"
    }
   ],
   "source": [
    "Emp"
   ]
  },
  {
   "cell_type": "code",
   "execution_count": 18,
   "id": "a3df9ff2",
   "metadata": {},
   "outputs": [],
   "source": [
    "Emp={'Name':'Raja',\n",
    "     'Age':30,\n",
    "     'Income':30000}"
   ]
  },
  {
   "cell_type": "code",
   "execution_count": 20,
   "id": "9e1db500",
   "metadata": {},
   "outputs": [
    {
     "data": {
      "text/plain": [
       "{'Name': 'Raja', 'Age': 30, 'Income': 30000, 'Address': 'Kovai'}"
      ]
     },
     "execution_count": 20,
     "metadata": {},
     "output_type": "execute_result"
    }
   ],
   "source": [
    "Emp['Address']=\"Kovai\"\n",
    "Emp"
   ]
  },
  {
   "cell_type": "code",
   "execution_count": 23,
   "id": "bf83d65b",
   "metadata": {},
   "outputs": [
    {
     "data": {
      "text/plain": [
       "{'Name': 'Raja', 'Age': 30, 'Income': 30000, 'Address': 'Kovai'}"
      ]
     },
     "execution_count": 23,
     "metadata": {},
     "output_type": "execute_result"
    }
   ],
   "source": [
    "Emp"
   ]
  },
  {
   "cell_type": "code",
   "execution_count": 25,
   "id": "e5282b5e",
   "metadata": {},
   "outputs": [
    {
     "data": {
      "text/plain": [
       "{'Name': 'Raja', 'Age': 30, 'Income': 30000, 'Address': 'Kovai', 'age': 25}"
      ]
     },
     "execution_count": 25,
     "metadata": {},
     "output_type": "execute_result"
    }
   ],
   "source": [
    "Emp.update({'age': 25})\n",
    "Emp"
   ]
  },
  {
   "cell_type": "code",
   "execution_count": 26,
   "id": "35dd7683",
   "metadata": {},
   "outputs": [],
   "source": [
    "Emp['Address']=\"Chennai\""
   ]
  },
  {
   "cell_type": "code",
   "execution_count": 27,
   "id": "97a7b846",
   "metadata": {},
   "outputs": [
    {
     "data": {
      "text/plain": [
       "{'Name': 'Raja', 'Age': 30, 'Income': 30000, 'Address': 'Chennai', 'age': 25}"
      ]
     },
     "execution_count": 27,
     "metadata": {},
     "output_type": "execute_result"
    }
   ],
   "source": [
    "Emp"
   ]
  },
  {
   "cell_type": "code",
   "execution_count": 28,
   "id": "9830cffb",
   "metadata": {},
   "outputs": [],
   "source": [
    "Emp.setdefault('Mobile')"
   ]
  },
  {
   "cell_type": "code",
   "execution_count": 29,
   "id": "26064670",
   "metadata": {},
   "outputs": [
    {
     "data": {
      "text/plain": [
       "{'Name': 'Raja',\n",
       " 'Age': 30,\n",
       " 'Income': 30000,\n",
       " 'Address': 'Chennai',\n",
       " 'age': 25,\n",
       " 'Mobile': None}"
      ]
     },
     "execution_count": 29,
     "metadata": {},
     "output_type": "execute_result"
    }
   ],
   "source": [
    "Emp"
   ]
  },
  {
   "cell_type": "code",
   "execution_count": null,
   "id": "9460839c",
   "metadata": {},
   "outputs": [],
   "source": []
  }
 ],
 "metadata": {
  "kernelspec": {
   "display_name": "Python 3",
   "language": "python",
   "name": "python3"
  },
  "language_info": {
   "codemirror_mode": {
    "name": "ipython",
    "version": 3
   },
   "file_extension": ".py",
   "mimetype": "text/x-python",
   "name": "python",
   "nbconvert_exporter": "python",
   "pygments_lexer": "ipython3",
   "version": "3.12.10"
  }
 },
 "nbformat": 4,
 "nbformat_minor": 5
}
