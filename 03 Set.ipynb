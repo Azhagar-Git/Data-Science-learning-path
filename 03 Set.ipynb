{
 "cells": [
  {
   "cell_type": "markdown",
   "id": "97eed76e",
   "metadata": {},
   "source": [
    "## SET (FUNCTIONS)\n",
    "### mutable\n",
    "### Can't Access to element (coz don't know index value)\n",
    "### not allow duplicates (Rule)\n",
    "### Unordered Prints (Rule)"
   ]
  },
  {
   "cell_type": "code",
   "execution_count": null,
   "id": "c8cfcaf1",
   "metadata": {},
   "outputs": [],
   "source": [
    "1  # add = add element bt without position\n",
    "2  # clear = { } empty\n",
    "3  #'copy = add copy bt affect org elements\n",
    "4  #'difference = 1st varible only differenction\n",
    "5  #'difference_update = 1st varible only differenction (affect varible)\n",
    "6  #'discard = particular given Element Remove the set\n",
    "7  #'intersection = Both varible common Elements (not affect varible)\n",
    "8  #'intersection_update = Both varible common Elements (affect varible)\n",
    "9  #'isdisjoint = common elements false / NO common elements True\n",
    "10 #'issubset = go check that code \n",
    "11 #'issuperset = go check that code\n",
    "12 #'pop = remove last element\n",
    "13 #'remove = remove given element\n",
    "14 #'symmetric_difference = uncommon elemetns\n",
    "15 #'symmetric_difference_update = uncommon elements add on first varible\n",
    "16 #'union = both combine result..... bt no duplicates\n",
    "17 #'update = both values merge add on first varible....bt no duplicates\n"
   ]
  },
  {
   "cell_type": "code",
   "execution_count": 4,
   "id": "0b9cda8a",
   "metadata": {},
   "outputs": [
    {
     "data": {
      "text/plain": [
       "{'Apple', 'Banana', 'Grapes', 'Mango', 'Orange'}"
      ]
     },
     "execution_count": 4,
     "metadata": {},
     "output_type": "execute_result"
    }
   ],
   "source": [
    "Set_fruits={'Apple','Banana','Grapes','Mango','Orange','Banana'} # Set not allow duplicates so remove \"Banana\"\n",
    "Set_fruits"
   ]
  },
  {
   "cell_type": "code",
   "execution_count": 9,
   "id": "44d8aad0",
   "metadata": {},
   "outputs": [
    {
     "data": {
      "text/plain": [
       "{'JPY', 'UAE', 'UEA', 'UK', 'USA', 'uae'}"
      ]
     },
     "execution_count": 9,
     "metadata": {},
     "output_type": "execute_result"
    }
   ],
   "source": [
    "# Logistc\n",
    "\n",
    "Carton=['USA','UK','UAE',\"UK\",\"UAE\",'UK','UEA',\"UK\",\"uae\",'UK','UAE',\"UK\",\"UAE\",'UK','UAE',\"UK\",\"UAE\",'JPY'] \n",
    "# 1000 countries how to segrated? & how many countries?\n",
    "# Unique Values (elements value)\n",
    "\n",
    "\n",
    "set(Carton) # Used set of carton (carton varibrle name)"
   ]
  },
  {
   "cell_type": "code",
   "execution_count": 10,
   "id": "faa7d4f8",
   "metadata": {},
   "outputs": [
    {
     "data": {
      "text/plain": [
       "{'Apple', 'Banana', 'Grapes', 'Mango', 'Orange'}"
      ]
     },
     "execution_count": 10,
     "metadata": {},
     "output_type": "execute_result"
    }
   ],
   "source": [
    "Set_fruits={'Apple','Banana','Grapes','Mango','Orange','Banana'}\n",
    "Set_fruits"
   ]
  },
  {
   "cell_type": "code",
   "execution_count": 11,
   "id": "7aae5283",
   "metadata": {},
   "outputs": [],
   "source": [
    "Set_fruits.add(\"melon\")"
   ]
  },
  {
   "cell_type": "code",
   "execution_count": 12,
   "id": "55cd15d8",
   "metadata": {},
   "outputs": [
    {
     "data": {
      "text/plain": [
       "{'Apple', 'Banana', 'Grapes', 'Mango', 'Orange', 'melon'}"
      ]
     },
     "execution_count": 12,
     "metadata": {},
     "output_type": "execute_result"
    }
   ],
   "source": [
    "Set_fruits"
   ]
  },
  {
   "cell_type": "code",
   "execution_count": 13,
   "id": "1a3ac0f6",
   "metadata": {},
   "outputs": [],
   "source": [
    "Set_fruits.clear()"
   ]
  },
  {
   "cell_type": "code",
   "execution_count": 14,
   "id": "05fda2ca",
   "metadata": {},
   "outputs": [
    {
     "data": {
      "text/plain": [
       "set()"
      ]
     },
     "execution_count": 14,
     "metadata": {},
     "output_type": "execute_result"
    }
   ],
   "source": [
    "Set_fruits"
   ]
  },
  {
   "cell_type": "code",
   "execution_count": 15,
   "id": "caaea86f",
   "metadata": {},
   "outputs": [
    {
     "data": {
      "text/plain": [
       "{'Apple', 'Banana', 'Grapes', 'Mango', 'Orange'}"
      ]
     },
     "execution_count": 15,
     "metadata": {},
     "output_type": "execute_result"
    }
   ],
   "source": [
    "Set_fruits={'Apple','Banana','Grapes','Mango','Orange','Banana'}\n",
    "Set_fruits"
   ]
  },
  {
   "cell_type": "code",
   "execution_count": 16,
   "id": "4b2fb536",
   "metadata": {},
   "outputs": [],
   "source": [
    "fruits_1={'Apple','Banana','Grapes','Mango','Orange','Banana'}\n",
    "fruits_2={'Apple','Kiwi','Mango','Orange','Melon'}"
   ]
  },
  {
   "cell_type": "code",
   "execution_count": 18,
   "id": "038ed837",
   "metadata": {},
   "outputs": [
    {
     "data": {
      "text/plain": [
       "{'Banana', 'Grapes'}"
      ]
     },
     "execution_count": 18,
     "metadata": {},
     "output_type": "execute_result"
    }
   ],
   "source": [
    "fruits_1.difference(fruits_2) # put ur first varible only difference"
   ]
  },
  {
   "cell_type": "code",
   "execution_count": 19,
   "id": "804adc4f",
   "metadata": {},
   "outputs": [
    {
     "data": {
      "text/plain": [
       "{'Kiwi', 'Melon'}"
      ]
     },
     "execution_count": 19,
     "metadata": {},
     "output_type": "execute_result"
    }
   ],
   "source": [
    "fruits_2.difference(fruits_1) # put ur first varible only difference"
   ]
  },
  {
   "cell_type": "code",
   "execution_count": 20,
   "id": "ab5a1b8a",
   "metadata": {},
   "outputs": [
    {
     "data": {
      "text/plain": [
       "{'Apple', 'Banana', 'Grapes', 'Mango', 'Orange'}"
      ]
     },
     "execution_count": 20,
     "metadata": {},
     "output_type": "execute_result"
    }
   ],
   "source": [
    "Set_fruits={'Apple','Banana','Grapes','Mango','Orange','Banana'}\n",
    "Set_fruits"
   ]
  },
  {
   "cell_type": "code",
   "execution_count": 21,
   "id": "978dcdc4",
   "metadata": {},
   "outputs": [],
   "source": [
    "Set_fruits.discard(\"Apple\")"
   ]
  },
  {
   "cell_type": "code",
   "execution_count": 22,
   "id": "781c70cd",
   "metadata": {},
   "outputs": [
    {
     "data": {
      "text/plain": [
       "{'Banana', 'Grapes', 'Mango', 'Orange'}"
      ]
     },
     "execution_count": 22,
     "metadata": {},
     "output_type": "execute_result"
    }
   ],
   "source": [
    "Set_fruits"
   ]
  },
  {
   "cell_type": "code",
   "execution_count": 25,
   "id": "4fe2e6d5",
   "metadata": {},
   "outputs": [],
   "source": [
    "fruits_1={'Apple','Banana','Grapes','Mango','Orange','Banana'}\n",
    "fruits_2={'Apple','Kiwi','Mango','Orange','Melon'}"
   ]
  },
  {
   "cell_type": "code",
   "execution_count": 26,
   "id": "c90652cc",
   "metadata": {},
   "outputs": [
    {
     "data": {
      "text/plain": [
       "{'Apple', 'Mango', 'Orange'}"
      ]
     },
     "execution_count": 26,
     "metadata": {},
     "output_type": "execute_result"
    }
   ],
   "source": [
    "fruits_1.intersection(fruits_2)"
   ]
  },
  {
   "cell_type": "code",
   "execution_count": 27,
   "id": "b749ab44",
   "metadata": {},
   "outputs": [
    {
     "data": {
      "text/plain": [
       "{'Apple', 'Mango', 'Orange'}"
      ]
     },
     "execution_count": 27,
     "metadata": {},
     "output_type": "execute_result"
    }
   ],
   "source": [
    "fruits_1.intersection_update(fruits_2)\n",
    "fruits_1"
   ]
  },
  {
   "cell_type": "code",
   "execution_count": 29,
   "id": "da8e3cfd",
   "metadata": {},
   "outputs": [],
   "source": [
    "fruits_1={'Apple','Banana','Grapes','Mango','Orange','Banana'}\n",
    "fruits_2={'Apple','Kiwi','Mango','Orange','Melon'}"
   ]
  },
  {
   "cell_type": "code",
   "execution_count": 30,
   "id": "7d2eb5d6",
   "metadata": {},
   "outputs": [],
   "source": [
    "fruits_1.difference_update(fruits_2)"
   ]
  },
  {
   "cell_type": "code",
   "execution_count": 31,
   "id": "743df34f",
   "metadata": {},
   "outputs": [
    {
     "data": {
      "text/plain": [
       "{'Banana', 'Grapes'}"
      ]
     },
     "execution_count": 31,
     "metadata": {},
     "output_type": "execute_result"
    }
   ],
   "source": [
    "fruits_1"
   ]
  },
  {
   "cell_type": "code",
   "execution_count": 3,
   "id": "8e06c7ce",
   "metadata": {},
   "outputs": [
    {
     "data": {
      "text/plain": [
       "False"
      ]
     },
     "execution_count": 3,
     "metadata": {},
     "output_type": "execute_result"
    }
   ],
   "source": [
    "fruits_1={'Apple','Banana','Grapes','Mango','Orange','Banana'}\n",
    "fruits_2={'Apple','Kiwi','Mango','Orange','Melon'}\n",
    "\n",
    "fruits_1.isdisjoint(fruits_2)"
   ]
  },
  {
   "cell_type": "code",
   "execution_count": 4,
   "id": "aaa4e6f1",
   "metadata": {},
   "outputs": [
    {
     "data": {
      "text/plain": [
       "True"
      ]
     },
     "execution_count": 4,
     "metadata": {},
     "output_type": "execute_result"
    }
   ],
   "source": [
    "fruits_1={'Apple','Banana','Grapes','Mango','Orange','Banana'}\n",
    "fruits_2={'Kiwi','Melon'}\n",
    "\n",
    "fruits_1.isdisjoint(fruits_2)"
   ]
  },
  {
   "cell_type": "code",
   "execution_count": null,
   "id": "5ad36907",
   "metadata": {},
   "outputs": [
    {
     "data": {
      "text/plain": [
       "False"
      ]
     },
     "execution_count": 16,
     "metadata": {},
     "output_type": "execute_result"
    }
   ],
   "source": [
    "set_1={1,2,3,4,5,6,7,8,9,10} # set2 vandhu set1 kulla irukanala adhu tha subset... i mean set2 this subset....\n",
    "set_2={1,2,3}\n",
    "\n",
    "set_1.issubset(set_2) "
   ]
  },
  {
   "cell_type": "code",
   "execution_count": 15,
   "id": "daadae95",
   "metadata": {},
   "outputs": [
    {
     "data": {
      "text/plain": [
       "True"
      ]
     },
     "execution_count": 15,
     "metadata": {},
     "output_type": "execute_result"
    }
   ],
   "source": [
    "set_2.issubset(set_1)"
   ]
  },
  {
   "cell_type": "code",
   "execution_count": null,
   "id": "f027463c",
   "metadata": {},
   "outputs": [
    {
     "data": {
      "text/plain": [
       "True"
      ]
     },
     "execution_count": 17,
     "metadata": {},
     "output_type": "execute_result"
    }
   ],
   "source": [
    "set_1.issuperset(set_2) # Perushu kulla sirushu irukanala idhu superset\n",
    "                        # lk Parent set_1"
   ]
  },
  {
   "cell_type": "code",
   "execution_count": 18,
   "id": "ad9b7150",
   "metadata": {},
   "outputs": [
    {
     "data": {
      "text/plain": [
       "False"
      ]
     },
     "execution_count": 18,
     "metadata": {},
     "output_type": "execute_result"
    }
   ],
   "source": [
    "set_2.issuperset(set_1)"
   ]
  },
  {
   "cell_type": "code",
   "execution_count": 23,
   "id": "4c5cfd5c",
   "metadata": {},
   "outputs": [
    {
     "data": {
      "text/plain": [
       "{'Apple', 'Grapes', 'Mango', 'Orange'}"
      ]
     },
     "execution_count": 23,
     "metadata": {},
     "output_type": "execute_result"
    }
   ],
   "source": [
    "fruits_1.remove(\"Banana\")\n",
    "fruits_1"
   ]
  },
  {
   "cell_type": "code",
   "execution_count": 24,
   "id": "e376a2c7",
   "metadata": {},
   "outputs": [
    {
     "data": {
      "text/plain": [
       "1"
      ]
     },
     "execution_count": 24,
     "metadata": {},
     "output_type": "execute_result"
    }
   ],
   "source": [
    "set_1.pop()"
   ]
  },
  {
   "cell_type": "code",
   "execution_count": 25,
   "id": "132768ce",
   "metadata": {},
   "outputs": [
    {
     "data": {
      "text/plain": [
       "{2, 3, 4, 5, 6, 7, 8, 9, 10}"
      ]
     },
     "execution_count": 25,
     "metadata": {},
     "output_type": "execute_result"
    }
   ],
   "source": [
    "set_1"
   ]
  },
  {
   "cell_type": "code",
   "execution_count": 26,
   "id": "dd16709b",
   "metadata": {},
   "outputs": [],
   "source": [
    "set_1={1,2,3,4,5,6,7,8,9,10}\n",
    "set_2={1,2,3}"
   ]
  },
  {
   "cell_type": "code",
   "execution_count": 27,
   "id": "6adf74dc",
   "metadata": {},
   "outputs": [
    {
     "data": {
      "text/plain": [
       "{4, 5, 6, 7, 8, 9, 10}"
      ]
     },
     "execution_count": 27,
     "metadata": {},
     "output_type": "execute_result"
    }
   ],
   "source": [
    "set_1.symmetric_difference(set_2)"
   ]
  },
  {
   "cell_type": "code",
   "execution_count": 28,
   "id": "8badab51",
   "metadata": {},
   "outputs": [
    {
     "data": {
      "text/plain": [
       "{4, 5, 6, 7, 8, 9, 10}"
      ]
     },
     "execution_count": 28,
     "metadata": {},
     "output_type": "execute_result"
    }
   ],
   "source": [
    "set_1.symmetric_difference_update(set_2)\n",
    "set_1"
   ]
  },
  {
   "cell_type": "code",
   "execution_count": 29,
   "id": "c0d002f1",
   "metadata": {},
   "outputs": [
    {
     "data": {
      "text/plain": [
       "{1, 2, 3, 4, 5, 6, 7, 8, 9, 10}"
      ]
     },
     "execution_count": 29,
     "metadata": {},
     "output_type": "execute_result"
    }
   ],
   "source": [
    "set_1.union(set_2)"
   ]
  },
  {
   "cell_type": "code",
   "execution_count": 35,
   "id": "d7a26398",
   "metadata": {},
   "outputs": [],
   "source": [
    "set_1={1,2,3,4,5,6,7,8,9,10}\n",
    "set_2={1,2,3,11,17,22}"
   ]
  },
  {
   "cell_type": "code",
   "execution_count": 36,
   "id": "31e4b342",
   "metadata": {},
   "outputs": [],
   "source": [
    "set_1.update(set_2)"
   ]
  },
  {
   "cell_type": "code",
   "execution_count": 37,
   "id": "6192286e",
   "metadata": {},
   "outputs": [
    {
     "data": {
      "text/plain": [
       "{1, 2, 3, 4, 5, 6, 7, 8, 9, 10, 11, 17, 22}"
      ]
     },
     "execution_count": 37,
     "metadata": {},
     "output_type": "execute_result"
    }
   ],
   "source": [
    "set_1"
   ]
  },
  {
   "cell_type": "code",
   "execution_count": 39,
   "id": "5284bd6f",
   "metadata": {},
   "outputs": [],
   "source": [
    "word={'q','w','e','r'}\n",
    "word2={'a','s','d','f'}"
   ]
  },
  {
   "cell_type": "code",
   "execution_count": 40,
   "id": "1892995b",
   "metadata": {},
   "outputs": [
    {
     "data": {
      "text/plain": [
       "True"
      ]
     },
     "execution_count": 40,
     "metadata": {},
     "output_type": "execute_result"
    }
   ],
   "source": [
    "word.isdisjoint(word2)"
   ]
  },
  {
   "cell_type": "code",
   "execution_count": 41,
   "id": "8a3e572c",
   "metadata": {},
   "outputs": [
    {
     "data": {
      "text/plain": [
       "False"
      ]
     },
     "execution_count": 41,
     "metadata": {},
     "output_type": "execute_result"
    }
   ],
   "source": [
    "word.issubset(word2)"
   ]
  },
  {
   "cell_type": "code",
   "execution_count": 42,
   "id": "9a92a3a6",
   "metadata": {},
   "outputs": [
    {
     "data": {
      "text/plain": [
       "False"
      ]
     },
     "execution_count": 42,
     "metadata": {},
     "output_type": "execute_result"
    }
   ],
   "source": [
    "word.issuperset(word2)"
   ]
  },
  {
   "cell_type": "code",
   "execution_count": 43,
   "id": "c3514d79",
   "metadata": {},
   "outputs": [
    {
     "data": {
      "text/plain": [
       "False"
      ]
     },
     "execution_count": 43,
     "metadata": {},
     "output_type": "execute_result"
    }
   ],
   "source": [
    "word2.issubset(word)"
   ]
  },
  {
   "cell_type": "code",
   "execution_count": 44,
   "id": "e2c76b5e",
   "metadata": {},
   "outputs": [
    {
     "data": {
      "text/plain": [
       "False"
      ]
     },
     "execution_count": 44,
     "metadata": {},
     "output_type": "execute_result"
    }
   ],
   "source": [
    "word2.issuperset(word)"
   ]
  },
  {
   "cell_type": "code",
   "execution_count": null,
   "id": "3868bd16",
   "metadata": {},
   "outputs": [],
   "source": []
  }
 ],
 "metadata": {
  "kernelspec": {
   "display_name": "Python 3",
   "language": "python",
   "name": "python3"
  },
  "language_info": {
   "codemirror_mode": {
    "name": "ipython",
    "version": 3
   },
   "file_extension": ".py",
   "mimetype": "text/x-python",
   "name": "python",
   "nbconvert_exporter": "python",
   "pygments_lexer": "ipython3",
   "version": "3.12.10"
  }
 },
 "nbformat": 4,
 "nbformat_minor": 5
}
