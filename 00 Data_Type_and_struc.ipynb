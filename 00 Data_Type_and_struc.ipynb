{
 "cells": [
  {
   "cell_type": "markdown",
   "id": "542e26ac",
   "metadata": {},
   "source": [
    "# Data Type"
   ]
  },
  {
   "cell_type": "code",
   "execution_count": 4,
   "id": "7d6a3967",
   "metadata": {},
   "outputs": [],
   "source": [
    "name= \"Azhagar\"     # String\n",
    "age= 28             # int\n",
    "height= 5.6         # Float\n",
    "result= True        # Boolean\n",
    "\n",
    "mail_id= \"azhagar97@gmail.com\" # String\n",
    "ip_Address= \"196.636.365\"  # String\n"
   ]
  },
  {
   "cell_type": "markdown",
   "id": "98aff909",
   "metadata": {},
   "source": [
    "# DATA STRUCTURE\n",
    "\n",
    "List  / \n",
    "Tuple  / \n",
    "set  / \n",
    "Dictionary\n"
   ]
  },
  {
   "cell_type": "code",
   "execution_count": 5,
   "id": "036c4a48",
   "metadata": {},
   "outputs": [
    {
     "data": {
      "text/plain": [
       "list"
      ]
     },
     "execution_count": 5,
     "metadata": {},
     "output_type": "execute_result"
    }
   ],
   "source": [
    "list"
   ]
  },
  {
   "cell_type": "code",
   "execution_count": null,
   "id": "8d8258bf",
   "metadata": {},
   "outputs": [],
   "source": [
    "L=[\"Azhagar\" , 28 , 5.6 , True] # int and float no access (none split results)"
   ]
  },
  {
   "cell_type": "code",
   "execution_count": 12,
   "id": "bb53f483",
   "metadata": {},
   "outputs": [
    {
     "data": {
      "text/plain": [
       "5.6"
      ]
     },
     "execution_count": 12,
     "metadata": {},
     "output_type": "execute_result"
    }
   ],
   "source": [
    "L[2]"
   ]
  },
  {
   "cell_type": "code",
   "execution_count": 13,
   "id": "d906ac37",
   "metadata": {},
   "outputs": [
    {
     "data": {
      "text/plain": [
       "'h'"
      ]
     },
     "execution_count": 13,
     "metadata": {},
     "output_type": "execute_result"
    }
   ],
   "source": [
    "L[0][2]"
   ]
  },
  {
   "cell_type": "code",
   "execution_count": 31,
   "id": "b5b4b20e",
   "metadata": {},
   "outputs": [],
   "source": [
    "L2= [ 1 , 2 , 3 , 4 , 5 , 6 , 7 , 8 , 9 , 10]"
   ]
  },
  {
   "cell_type": "code",
   "execution_count": 32,
   "id": "94c6fa39",
   "metadata": {},
   "outputs": [
    {
     "data": {
      "text/plain": [
       "10"
      ]
     },
     "execution_count": 32,
     "metadata": {},
     "output_type": "execute_result"
    }
   ],
   "source": [
    "len(L2) # indha function must"
   ]
  },
  {
   "cell_type": "code",
   "execution_count": 33,
   "id": "8c9f07a1",
   "metadata": {},
   "outputs": [
    {
     "data": {
      "text/plain": [
       "[1, 2, 3, 4, 5, 6, 7, 8]"
      ]
     },
     "execution_count": 33,
     "metadata": {},
     "output_type": "execute_result"
    }
   ],
   "source": [
    "L2[0:8]"
   ]
  },
  {
   "cell_type": "code",
   "execution_count": 38,
   "id": "2f6bad57",
   "metadata": {},
   "outputs": [
    {
     "data": {
      "text/plain": [
       "[1, 3, 5, 7]"
      ]
     },
     "execution_count": 38,
     "metadata": {},
     "output_type": "execute_result"
    }
   ],
   "source": [
    "L2[0:8:2]"
   ]
  },
  {
   "cell_type": "code",
   "execution_count": null,
   "id": "bd156079",
   "metadata": {},
   "outputs": [],
   "source": []
  }
 ],
 "metadata": {
  "kernelspec": {
   "display_name": "Python 3",
   "language": "python",
   "name": "python3"
  },
  "language_info": {
   "codemirror_mode": {
    "name": "ipython",
    "version": 3
   },
   "file_extension": ".py",
   "mimetype": "text/x-python",
   "name": "python",
   "nbconvert_exporter": "python",
   "pygments_lexer": "ipython3",
   "version": "3.12.10"
  }
 },
 "nbformat": 4,
 "nbformat_minor": 5
}
