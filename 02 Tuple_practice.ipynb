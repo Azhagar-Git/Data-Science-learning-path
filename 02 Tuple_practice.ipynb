{
 "cells": [
  {
   "cell_type": "markdown",
   "id": "b86bf3b1",
   "metadata": {},
   "source": [
    "###Tuple\n",
    "\n",
    "\n",
    " .count  #Function\n",
    "\n",
    "\n",
    " .index  #Function"
   ]
  },
  {
   "cell_type": "code",
   "execution_count": 19,
   "id": "31e2ce1f",
   "metadata": {},
   "outputs": [],
   "source": [
    "# Tuple can Store Any Data Types./ Data Structure, Immutable[Cant Add, Remove Or Modify] Tuple Allow Duplicates\n"
   ]
  },
  {
   "cell_type": "code",
   "execution_count": null,
   "id": "2068cd31",
   "metadata": {},
   "outputs": [
    {
     "data": {
      "text/plain": [
       "('Rajesh', 25, 'EEE', 'III', [56, 78])"
      ]
     },
     "execution_count": 1,
     "metadata": {},
     "output_type": "execute_result"
    }
   ],
   "source": [
    "Std_detail=('Rajesh',25,'EEE','III',[56,78]) # list can access"
   ]
  },
  {
   "cell_type": "code",
   "execution_count": 2,
   "id": "63bf9d67",
   "metadata": {},
   "outputs": [
    {
     "data": {
      "text/plain": [
       "'EEE'"
      ]
     },
     "execution_count": 2,
     "metadata": {},
     "output_type": "execute_result"
    }
   ],
   "source": [
    "Std_detail[2]"
   ]
  },
  {
   "cell_type": "code",
   "execution_count": 8,
   "id": "8dedad1e",
   "metadata": {},
   "outputs": [
    {
     "data": {
      "text/plain": [
       "[56, 78]"
      ]
     },
     "execution_count": 8,
     "metadata": {},
     "output_type": "execute_result"
    }
   ],
   "source": [
    "Std_detail[-1]"
   ]
  },
  {
   "cell_type": "code",
   "execution_count": 9,
   "id": "9a903a90",
   "metadata": {},
   "outputs": [
    {
     "data": {
      "text/plain": [
       "56"
      ]
     },
     "execution_count": 9,
     "metadata": {},
     "output_type": "execute_result"
    }
   ],
   "source": [
    "Std_detail[-1][-2]"
   ]
  },
  {
   "cell_type": "code",
   "execution_count": 16,
   "id": "97f80a6c",
   "metadata": {},
   "outputs": [],
   "source": [
    "Std_detail[-1][-2]=45"
   ]
  },
  {
   "cell_type": "code",
   "execution_count": 17,
   "id": "55a8dc55",
   "metadata": {},
   "outputs": [
    {
     "data": {
      "text/plain": [
       "('Rajesh', 25, 'EEE', 'III', [45, 78])"
      ]
     },
     "execution_count": 17,
     "metadata": {},
     "output_type": "execute_result"
    }
   ],
   "source": [
    "Std_detail"
   ]
  },
  {
   "cell_type": "code",
   "execution_count": null,
   "id": "45508136",
   "metadata": {},
   "outputs": [],
   "source": []
  },
  {
   "cell_type": "markdown",
   "id": "59f47990",
   "metadata": {},
   "source": []
  }
 ],
 "metadata": {
  "kernelspec": {
   "display_name": "Python 3",
   "language": "python",
   "name": "python3"
  },
  "language_info": {
   "codemirror_mode": {
    "name": "ipython",
    "version": 3
   },
   "file_extension": ".py",
   "mimetype": "text/x-python",
   "name": "python",
   "nbconvert_exporter": "python",
   "pygments_lexer": "ipython3",
   "version": "3.12.10"
  }
 },
 "nbformat": 4,
 "nbformat_minor": 5
}
