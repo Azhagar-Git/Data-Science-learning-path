{
 "cells": [
  {
   "cell_type": "code",
   "execution_count": 1,
   "id": "c85213d9",
   "metadata": {},
   "outputs": [
    {
     "data": {
      "text/plain": [
       "{'EmpID': [44, 55, 67, 21, 7, 8, 19, 27],\n",
       " 'Name': ['Rajesh',\n",
       "  'Kumar',\n",
       "  'Kamal',\n",
       "  'Saran',\n",
       "  'Karthick',\n",
       "  'Iswarya',\n",
       "  'Divya',\n",
       "  'David'],\n",
       " 'Designation': ['Developer', 'Tester', 'TeamLead', 'Manager', 'Jr.Developer'],\n",
       " 'Salary': [25000, 30000, 45000, 60000, 20000, 22000, 15000, 28000]}"
      ]
     },
     "execution_count": 1,
     "metadata": {},
     "output_type": "execute_result"
    }
   ],
   "source": [
    "Guvi_Emp={\n",
    "    'EmpID': [44,55,67,21,7,8,19,27],\n",
    "    'Name':['Rajesh','Kumar','Kamal','Saran','Karthick','Iswarya','Divya','David'],\n",
    "    'Designation':['Developer','Tester','TeamLead','Manager','Jr.Developer'],\n",
    "    'Salary': [25000,30000,45000,60000,20000,22000,15000,28000],\n",
    "\n",
    "}\n",
    "Guvi_Emp\n",
    "\n"
   ]
  },
  {
   "cell_type": "code",
   "execution_count": 15,
   "id": "e9ad2ef2",
   "metadata": {},
   "outputs": [
    {
     "data": {
      "text/plain": [
       "['cat', 'dog', 'cow', 'lion', 'tiger']"
      ]
     },
     "execution_count": 15,
     "metadata": {},
     "output_type": "execute_result"
    }
   ],
   "source": [
    "Animals=['cat', 'dog', 'cow', 'lion', 'tiger']\n",
    "Animals"
   ]
  },
  {
   "cell_type": "code",
   "execution_count": 16,
   "id": "119cd519",
   "metadata": {},
   "outputs": [
    {
     "name": "stdout",
     "output_type": "stream",
     "text": [
      "cat\n",
      "dog\n",
      "cow\n",
      "lion\n",
      "tiger\n"
     ]
    }
   ],
   "source": [
    "i=0\n",
    "while i<len(Animals):\n",
    "    print(Animals[i])\n",
    "    i=i+1"
   ]
  },
  {
   "cell_type": "code",
   "execution_count": null,
   "id": "5a450c33",
   "metadata": {},
   "outputs": [],
   "source": []
  }
 ],
 "metadata": {
  "kernelspec": {
   "display_name": "Python 3",
   "language": "python",
   "name": "python3"
  },
  "language_info": {
   "codemirror_mode": {
    "name": "ipython",
    "version": 3
   },
   "file_extension": ".py",
   "mimetype": "text/x-python",
   "name": "python",
   "nbconvert_exporter": "python",
   "pygments_lexer": "ipython3",
   "version": "3.12.10"
  }
 },
 "nbformat": 4,
 "nbformat_minor": 5
}
