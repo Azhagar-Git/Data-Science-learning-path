{
 "cells": [
  {
   "cell_type": "markdown",
   "id": "2ffb34b6",
   "metadata": {},
   "source": [
    "# Loops\n",
    "\n",
    "### For Loop (Set of List or Range)\n",
    "### While Loop (Infinity work)\n",
    "\n",
    "## Syntax\n",
    "### Iteration (Further Move)        \n",
    "   ### Iteration = Check and cross\n",
    " for *iterator* in *iterable*:\n",
    "    *Do something*"
   ]
  },
  {
   "cell_type": "markdown",
   "id": "3a059160",
   "metadata": {},
   "source": []
  }
 ],
 "metadata": {
  "language_info": {
   "name": "python"
  }
 },
 "nbformat": 4,
 "nbformat_minor": 5
}
