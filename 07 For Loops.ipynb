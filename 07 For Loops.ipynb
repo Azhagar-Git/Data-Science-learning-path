{
 "cells": [
  {
   "cell_type": "markdown",
   "id": "d50e2c28",
   "metadata": {},
   "source": [
    "# Loops\n",
    "\n",
    "### For Loop (Set of List or Range)\n",
    "### While Loop (Infinity work)\n",
    "\n",
    "## Syntax\n",
    "### Iteration (Further Move)        \n",
    "   ### Iteration = Check and cross\n",
    " for *iterator* in *iterable*:\n",
    "    *Do something*"
   ]
  },
  {
   "cell_type": "code",
   "execution_count": null,
   "id": "3dceabd8",
   "metadata": {},
   "outputs": [],
   "source": []
  },
  {
   "cell_type": "code",
   "execution_count": null,
   "id": "238fa875",
   "metadata": {},
   "outputs": [],
   "source": []
  },
  {
   "cell_type": "markdown",
   "id": "88981515",
   "metadata": {},
   "source": [
    "## TYPES OF FOR LOOP\n",
    "\n",
    "### Numeric For Loop (using range)\n",
    "### Collection-based For Loop (list, tuple, dictionary, string)\n",
    "### Length/Range-based For Loop (using len with range)\n",
    "### For Loop with Conditional Statements (adding if conditions inside loop)\n",
    "### Nested For Loop (for loop inside another for loop)\n",
    "### Dual Looping (zip) (iterating two sequences together)\n",
    "### Index Looping (enumerate) (getting both index and item together)"
   ]
  },
  {
   "cell_type": "code",
   "execution_count": 12,
   "id": "2e5be665",
   "metadata": {},
   "outputs": [
    {
     "name": "stdout",
     "output_type": "stream",
     "text": [
      "Raja\n",
      "Ravi\n",
      "Rani\n",
      "Ramu\n"
     ]
    }
   ],
   "source": [
    "Name=['Raja','Ravi','Rani','Ramu']\n",
    "\n",
    "for i in Name:   # Syntax Type\n",
    "    print(i)  # i means iterate varible\n",
    "\n",
    "# i print panna tha ulla iruka items print panna"
   ]
  },
  {
   "cell_type": "code",
   "execution_count": 13,
   "id": "11b84196",
   "metadata": {},
   "outputs": [
    {
     "name": "stdout",
     "output_type": "stream",
     "text": [
      "['Raja', 'Ravi', 'Rani', 'Ramu']\n",
      "['Raja', 'Ravi', 'Rani', 'Ramu']\n",
      "['Raja', 'Ravi', 'Rani', 'Ramu']\n",
      "['Raja', 'Ravi', 'Rani', 'Ramu']\n"
     ]
    }
   ],
   "source": [
    "Name=['Raja','Ravi','Rani','Ramu']\n",
    "\n",
    "for i in Name:   # Syntax Type\n",
    "    print(Name)  # i means iterate varible\n",
    "\n",
    "# i print panna tha ulla iruka items print panna"
   ]
  },
  {
   "cell_type": "code",
   "execution_count": 15,
   "id": "63e41a25",
   "metadata": {},
   "outputs": [
    {
     "name": "stdout",
     "output_type": "stream",
     "text": [
      "3.0\n",
      "3\n",
      "0\n"
     ]
    }
   ],
   "source": [
    "A=5\n",
    " \n",
    "# A=5    Assign Operator\n",
    "# A==5   Logical Operator \n",
    "\n",
    "print(6/2)     # Divides and returns float\n",
    "print(6//2)    # Divides and removes decimal\t\n",
    "print(6%2)     # Modelution or Reminder"
   ]
  },
  {
   "cell_type": "code",
   "execution_count": 16,
   "id": "1ff2a0b3",
   "metadata": {},
   "outputs": [
    {
     "name": "stdout",
     "output_type": "stream",
     "text": [
      "Odd\n"
     ]
    }
   ],
   "source": [
    "A=5\n",
    "\n",
    "if A%2==0:\n",
    "    print(\"Even\")\n",
    "\n",
    "else:\n",
    "    print(\"Odd\")"
   ]
  },
  {
   "cell_type": "code",
   "execution_count": 29,
   "id": "663186d2",
   "metadata": {},
   "outputs": [
    {
     "name": "stdout",
     "output_type": "stream",
     "text": [
      "10 is Even\n",
      "20 is Even\n",
      "39 is Odd\n",
      "67 is Odd\n",
      "78 is Even\n",
      "44 is Even\n",
      "25 is Odd\n",
      "22 is Even\n",
      "68 is Even\n"
     ]
    }
   ],
   "source": [
    "Nums=[10,20,39,67,78,44,25,22,68]\n",
    "\n",
    "for n in Nums:\n",
    "\n",
    "    if n%2==0:\n",
    "        print(f\"{n} is Even\")\n",
    "    \n",
    "    else:\n",
    "        print(f\"{n} is Odd\")\n",
    "\n",
    "\n",
    "     "
   ]
  },
  {
   "cell_type": "code",
   "execution_count": 27,
   "id": "ce565d13",
   "metadata": {},
   "outputs": [],
   "source": [
    "Nums=[10,15,20,39,67,78,44,25,22,68,100,12,103,27,78,99,0,1,2,3,4,5,6,7,8,9,10]\n",
    "\n",
    "# % 3 []\n",
    "# % 5 []\n",
    "# % 7 []"
   ]
  },
  {
   "cell_type": "code",
   "execution_count": 30,
   "id": "68d3483f",
   "metadata": {},
   "outputs": [
    {
     "name": "stdout",
     "output_type": "stream",
     "text": [
      "[15, 39, 78, 12, 27, 78, 99, 0, 3, 6, 9]\n",
      "[10, 15, 20, 25, 100, 0, 5, 10]\n",
      "[0, 7]\n"
     ]
    }
   ],
   "source": [
    "Num_3=[]\n",
    "Num_5=[]\n",
    "Num_7=[]\n",
    "\n",
    "\n",
    "for i in Nums:\n",
    "    if i%3==0:\n",
    "        Num_3.append(i)\n",
    "\n",
    "    if i%5==0:\n",
    "        Num_5.append(i) \n",
    "\n",
    "    if i%7==0:\n",
    "        Num_7.append(i) \n",
    "\n",
    "\n",
    "print(Num_3)\n",
    "print(Num_5) \n",
    "print(Num_7)    "
   ]
  },
  {
   "cell_type": "code",
   "execution_count": 7,
   "id": "215fc95d",
   "metadata": {},
   "outputs": [],
   "source": [
    "Numbers=[10,20,39,67,78,44,25,22,68]"
   ]
  },
  {
   "cell_type": "code",
   "execution_count": 15,
   "id": "59ed7ca5",
   "metadata": {},
   "outputs": [
    {
     "name": "stdout",
     "output_type": "stream",
     "text": [
      "[10, 20, 78, 44, 22, 68]\n",
      "[39, 67, 25]\n"
     ]
    }
   ],
   "source": [
    "Even=[]\n",
    "odd=[]\n",
    "\n",
    "for i in Numbers:\n",
    "    if i%2==0:\n",
    "        Even.append(i)\n",
    "    else:\n",
    "        odd.append(i)\n",
    "\n",
    "print(Even)\n",
    "print(odd)\n",
    "        "
   ]
  },
  {
   "cell_type": "code",
   "execution_count": 18,
   "id": "9e493135",
   "metadata": {},
   "outputs": [
    {
     "name": "stdout",
     "output_type": "stream",
     "text": [
      "10 20 78 44 22 68\n",
      "39 67 25\n"
     ]
    }
   ],
   "source": [
    "print(*Even)  #   Adding  *  Space and Colomn Remove pannitu verum Element mattu tharum\n",
    "print(*odd)"
   ]
  },
  {
   "cell_type": "code",
   "execution_count": 16,
   "id": "5e58bc79",
   "metadata": {},
   "outputs": [
    {
     "name": "stdout",
     "output_type": "stream",
     "text": [
      "10 is Even\n",
      "20 is Even\n",
      "39 is Odd\n",
      "67 is Odd\n",
      "78 is Even\n",
      "44 is Even\n",
      "25 is Odd\n",
      "22 is Even\n",
      "68 is Even\n"
     ]
    }
   ],
   "source": [
    "Nums=[10,20,39,67,78,44,25,22,68]\n",
    "\n",
    "\n",
    "for i in Nums:\n",
    "    if i%2==0:\n",
    "        print(f\"{i} is Even\")\n",
    "\n",
    "    else:\n",
    "        print(f\"{i} is Odd\")    "
   ]
  },
  {
   "cell_type": "code",
   "execution_count": 21,
   "id": "70d88e21",
   "metadata": {},
   "outputs": [
    {
     "name": "stdout",
     "output_type": "stream",
     "text": [
      "Cat, Dog, Elephant, Tiger, Lion\n"
     ]
    }
   ],
   "source": [
    "Animals=['Cat','Dog','Elephant','Tiger','Lion']\n",
    "\n",
    "# List change to nrml Elements\n",
    "\n",
    "print(', '.join(Animals))"
   ]
  },
  {
   "cell_type": "code",
   "execution_count": 27,
   "id": "77de351e",
   "metadata": {},
   "outputs": [
    {
     "name": "stdout",
     "output_type": "stream",
     "text": [
      "Cat # Dog # Elephant # Tiger # Lion\n"
     ]
    }
   ],
   "source": [
    "Animals=['Cat','Dog','Elephant','Tiger','Lion']\n",
    "\n",
    "print(*Animals,sep=' # ')  # Space Seprated print panna USE SEP= function\n"
   ]
  },
  {
   "cell_type": "code",
   "execution_count": 29,
   "id": "e9917487",
   "metadata": {},
   "outputs": [
    {
     "name": "stdout",
     "output_type": "stream",
     "text": [
      "[10, 20, 78, 44, 22, 68]\n"
     ]
    }
   ],
   "source": [
    "Even\n",
    "print(Even)"
   ]
  },
  {
   "cell_type": "code",
   "execution_count": 31,
   "id": "50821c86",
   "metadata": {},
   "outputs": [
    {
     "name": "stdout",
     "output_type": "stream",
     "text": [
      "This is a Even Numbers 10 20 78 44 22 68\n"
     ]
    }
   ],
   "source": [
    "print(\"This is a Even Numbers\",*Even)"
   ]
  },
  {
   "cell_type": "code",
   "execution_count": 43,
   "id": "a0642ecb",
   "metadata": {},
   "outputs": [
    {
     "name": "stdout",
     "output_type": "stream",
     "text": [
      "# name of Raja\n",
      "# name of Ravi\n",
      "# name of Rani\n",
      "# name of Ramu\n"
     ]
    }
   ],
   "source": [
    "Name=['Raja','Ravi','Rani','Ramu']\n",
    "\n",
    "\n",
    "for i in Name:\n",
    "\n",
    "    print(\"#\"+\" \"+\"name of\"+\" \"+ i)"
   ]
  },
  {
   "cell_type": "code",
   "execution_count": 88,
   "id": "09cc4a18",
   "metadata": {},
   "outputs": [
    {
     "name": "stdout",
     "output_type": "stream",
     "text": [
      "#Raja #Ravi #Rani #Ramu \n"
     ]
    }
   ],
   "source": [
    "Name=['Raja','Ravi','Rani','Ramu']\n",
    "\n",
    "sure_name=\"\"\n",
    "\n",
    "for i in Name:\n",
    "    sure_name=sure_name+\"#\"+i+\" \"\n",
    "\n",
    "\n",
    "print(sure_name)\n",
    "    \n",
    "\n"
   ]
  },
  {
   "cell_type": "code",
   "execution_count": 86,
   "id": "a4a75260",
   "metadata": {},
   "outputs": [
    {
     "data": {
      "text/plain": [
       "'Raja,Ravi,Rani,Ramu'"
      ]
     },
     "execution_count": 86,
     "metadata": {},
     "output_type": "execute_result"
    }
   ],
   "source": [
    "\",\".join(Name)"
   ]
  },
  {
   "cell_type": "code",
   "execution_count": 94,
   "id": "a6e762f3",
   "metadata": {},
   "outputs": [
    {
     "name": "stdout",
     "output_type": "stream",
     "text": [
      "#Ramu\n"
     ]
    }
   ],
   "source": [
    "Name=['Raja','Ravi','Rani','Ramu']\n",
    "\n",
    "for i in Name[-1:]:\n",
    "    print(\"#\"+i)"
   ]
  },
  {
   "cell_type": "code",
   "execution_count": 97,
   "id": "53c205ec",
   "metadata": {},
   "outputs": [
    {
     "name": "stdout",
     "output_type": "stream",
     "text": [
      "#Ravi\n"
     ]
    }
   ],
   "source": [
    "for i in Name[1:2]:\n",
    "    print(\"#\"+i)"
   ]
  },
  {
   "cell_type": "code",
   "execution_count": 4,
   "id": "c62d5f3a",
   "metadata": {},
   "outputs": [
    {
     "name": "stdout",
     "output_type": "stream",
     "text": [
      "#Raja #Ravi #Rani #Ramu \n"
     ]
    }
   ],
   "source": [
    "Name=['Raja','Ravi','Rani','Ramu']\n",
    "\n",
    "copyname=\"\"\n",
    "\n",
    "for i in Name:\n",
    "    copyname=copyname+\"#\"+ i +\" \"\n",
    "\n",
    "print(copyname)"
   ]
  },
  {
   "cell_type": "code",
   "execution_count": 8,
   "id": "8db39e1b",
   "metadata": {},
   "outputs": [
    {
     "name": "stdout",
     "output_type": "stream",
     "text": [
      "#Raja #Ravi #Rani #Ramu \n"
     ]
    }
   ],
   "source": [
    "Name=['Raja','Ravi','Rani','Ramu']\n",
    "\n",
    "copyname=\"\"\n",
    "\n",
    "for i in Name:\n",
    "    copyname=copyname+\"#\"+ i +\" \"\n",
    "print(copyname)"
   ]
  },
  {
   "cell_type": "code",
   "execution_count": 23,
   "id": "ad3de2d4",
   "metadata": {},
   "outputs": [
    {
     "data": {
      "text/plain": [
       "'Raja & Ravi & Rani & Ramu'"
      ]
     },
     "execution_count": 23,
     "metadata": {},
     "output_type": "execute_result"
    }
   ],
   "source": [
    "\" & \".join(Name)\n",
    "# print(*Name)"
   ]
  },
  {
   "cell_type": "code",
   "execution_count": 1,
   "id": "265adbcb",
   "metadata": {},
   "outputs": [
    {
     "name": "stdout",
     "output_type": "stream",
     "text": [
      "A/z/h/a/g/a/r\n"
     ]
    }
   ],
   "source": [
    "nam='Azhagar'\n",
    "\n",
    "print(\"/\".join(nam))"
   ]
  },
  {
   "cell_type": "code",
   "execution_count": 20,
   "id": "1ce87df3",
   "metadata": {},
   "outputs": [
    {
     "name": "stdout",
     "output_type": "stream",
     "text": [
      "# Azhagar\n"
     ]
    }
   ],
   "source": [
    "nam=['Azhagar']\n",
    "\n",
    "add=\"\"\n",
    "for i in nam:\n",
    "    add=add + \"#\" +\" \" + i\n",
    "print(add)"
   ]
  },
  {
   "cell_type": "code",
   "execution_count": 17,
   "id": "c9aa8de1",
   "metadata": {},
   "outputs": [
    {
     "name": "stdout",
     "output_type": "stream",
     "text": [
      "A\n"
     ]
    }
   ],
   "source": [
    "nam=['Azhagar']\n",
    "\n",
    "add=\"\"\n",
    "for i in nam:\n",
    "    add=add + \"#\" +\" \" + i\n",
    "print(add[2])"
   ]
  },
  {
   "cell_type": "code",
   "execution_count": null,
   "id": "238fbdbb",
   "metadata": {},
   "outputs": [],
   "source": []
  }
 ],
 "metadata": {
  "kernelspec": {
   "display_name": "Python 3",
   "language": "python",
   "name": "python3"
  },
  "language_info": {
   "codemirror_mode": {
    "name": "ipython",
    "version": 3
   },
   "file_extension": ".py",
   "mimetype": "text/x-python",
   "name": "python",
   "nbconvert_exporter": "python",
   "pygments_lexer": "ipython3",
   "version": "3.12.10"
  }
 },
 "nbformat": 4,
 "nbformat_minor": 5
}
