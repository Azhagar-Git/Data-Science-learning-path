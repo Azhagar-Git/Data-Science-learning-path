{
 "cells": [
  {
   "cell_type": "markdown",
   "id": "c521d079",
   "metadata": {},
   "source": [
    "# List Function\n",
    "\n",
    "### list [mutable]\n",
    "### List define [ ] Square Bracket"
   ]
  },
  {
   "cell_type": "code",
   "execution_count": null,
   "id": "0c6d225d",
   "metadata": {},
   "outputs": [],
   "source": [
    "\n",
    "1  # Append  --> Add Element at end of the list\n",
    "2  # Clear.  --> Remove All the Elements from the List\n",
    "3  # Copy.   --> Take Copy of Orginal List To Avoid Any Changes in orginal List\n",
    "4  # Count.  --> Count The Number of Occurance of Given Element\n",
    "5  # Extend. --> [1,2,3,4,5].extend(['a','b','c']) = [1,2,3,4,5,'a','b','c']\n",
    "6  # Index.  --> This will find the index/postion of Given Element / Only First Occurance\n",
    "7  # Insert. --> Insert the given element in the given position (It Has Two Argument(Postion/Index , Element))\n",
    "8  # Pop.    --> Remove the Last element of the List\n",
    "9  # Remove. --> Remove the Given element from the list (Remove the First Occurance of Given Element)\n",
    "10 # Reverse --> Its Just Reverse the Given List\n",
    "11 # sort.   --> Order the Given List in Asc/ Desc"
   ]
  },
  {
   "cell_type": "code",
   "execution_count": 8,
   "id": "6c9ef799",
   "metadata": {},
   "outputs": [],
   "source": [
    "L=[\"azhagar\", \"28.5\",\"VE\",\"CBE\", \"641026\"]"
   ]
  },
  {
   "cell_type": "code",
   "execution_count": 4,
   "id": "328e3044",
   "metadata": {},
   "outputs": [
    {
     "data": {
      "text/plain": [
       "'641026'"
      ]
     },
     "execution_count": 4,
     "metadata": {},
     "output_type": "execute_result"
    }
   ],
   "source": [
    "L[-1]"
   ]
  },
  {
   "cell_type": "code",
   "execution_count": 5,
   "id": "2ef9857a",
   "metadata": {},
   "outputs": [
    {
     "data": {
      "text/plain": [
       "'2'"
      ]
     },
     "execution_count": 5,
     "metadata": {},
     "output_type": "execute_result"
    }
   ],
   "source": [
    "L[-1][-2]"
   ]
  },
  {
   "cell_type": "code",
   "execution_count": 6,
   "id": "005a8c3f",
   "metadata": {},
   "outputs": [
    {
     "data": {
      "text/plain": [
       "'azhagar'"
      ]
     },
     "execution_count": 6,
     "metadata": {},
     "output_type": "execute_result"
    }
   ],
   "source": [
    "L[0]"
   ]
  },
  {
   "cell_type": "code",
   "execution_count": 7,
   "id": "b0e49a5c",
   "metadata": {},
   "outputs": [
    {
     "data": {
      "text/plain": [
       "'a'"
      ]
     },
     "execution_count": 7,
     "metadata": {},
     "output_type": "execute_result"
    }
   ],
   "source": [
    "L[0][3]"
   ]
  },
  {
   "cell_type": "code",
   "execution_count": 11,
   "id": "da46105d",
   "metadata": {},
   "outputs": [
    {
     "data": {
      "text/plain": [
       "'5'"
      ]
     },
     "execution_count": 11,
     "metadata": {},
     "output_type": "execute_result"
    }
   ],
   "source": [
    "L[1][3]"
   ]
  },
  {
   "cell_type": "code",
   "execution_count": 12,
   "id": "d9e104d6",
   "metadata": {},
   "outputs": [
    {
     "data": {
      "text/plain": [
       "5"
      ]
     },
     "execution_count": 12,
     "metadata": {},
     "output_type": "execute_result"
    }
   ],
   "source": [
    "len(L)"
   ]
  },
  {
   "cell_type": "code",
   "execution_count": 13,
   "id": "d50ba5ac",
   "metadata": {},
   "outputs": [
    {
     "data": {
      "text/plain": [
       "'641026'"
      ]
     },
     "execution_count": 13,
     "metadata": {},
     "output_type": "execute_result"
    }
   ],
   "source": [
    "L[-1]"
   ]
  },
  {
   "cell_type": "code",
   "execution_count": 23,
   "id": "703589c6",
   "metadata": {},
   "outputs": [
    {
     "data": {
      "text/plain": [
       "['VE', 'CBE', '641026']"
      ]
     },
     "execution_count": 23,
     "metadata": {},
     "output_type": "execute_result"
    }
   ],
   "source": [
    "L[len(L)//2:]"
   ]
  },
  {
   "cell_type": "code",
   "execution_count": 24,
   "id": "fde75c4d",
   "metadata": {},
   "outputs": [
    {
     "data": {
      "text/plain": [
       "['azhagar', '28.5']"
      ]
     },
     "execution_count": 24,
     "metadata": {},
     "output_type": "execute_result"
    }
   ],
   "source": [
    "L[:len(L)//2]"
   ]
  },
  {
   "cell_type": "code",
   "execution_count": 4,
   "id": "3fdc86f4",
   "metadata": {},
   "outputs": [],
   "source": [
    "L2=[1, 2, 3, 4, 5, 6, 7, 8, 9, 10]\n",
    "#   0  1  2  3  4  5  6  7  8  9"
   ]
  },
  {
   "cell_type": "code",
   "execution_count": 2,
   "id": "de6dfb47",
   "metadata": {},
   "outputs": [
    {
     "data": {
      "text/plain": [
       "[1, 2, 3]"
      ]
     },
     "execution_count": 2,
     "metadata": {},
     "output_type": "execute_result"
    }
   ],
   "source": [
    "L2[0:3]"
   ]
  },
  {
   "cell_type": "code",
   "execution_count": 3,
   "id": "52f4cb04",
   "metadata": {},
   "outputs": [
    {
     "data": {
      "text/plain": [
       "[3, 4, 5, 6, 7, 8]"
      ]
     },
     "execution_count": 3,
     "metadata": {},
     "output_type": "execute_result"
    }
   ],
   "source": [
    "L2[2:8]"
   ]
  },
  {
   "cell_type": "code",
   "execution_count": null,
   "id": "d955701a",
   "metadata": {},
   "outputs": [
    {
     "data": {
      "text/plain": [
       "[5, 8]"
      ]
     },
     "execution_count": 12,
     "metadata": {},
     "output_type": "execute_result"
    }
   ],
   "source": [
    "L2[4:9:3]  # 4= start value / 9= end value / 3= step value"
   ]
  },
  {
   "cell_type": "code",
   "execution_count": null,
   "id": "cb975f8b",
   "metadata": {},
   "outputs": [
    {
     "data": {
      "text/plain": [
       "['Apple', 'Banana', 'Grapes', 'Mango', 'Orange', 'Banana']"
      ]
     },
     "execution_count": 17,
     "metadata": {},
     "output_type": "execute_result"
    }
   ],
   "source": [
    "Fruits=['Apple','Banana','Grapes','Mango','Orange','Banana']"
   ]
  },
  {
   "cell_type": "code",
   "execution_count": 1,
   "id": "14fb44f2",
   "metadata": {},
   "outputs": [
    {
     "data": {
      "text/plain": [
       "['Apple', 'Banana', 'Grapes', 'Mango', 'Orange', 'Banana']"
      ]
     },
     "execution_count": 1,
     "metadata": {},
     "output_type": "execute_result"
    }
   ],
   "source": [
    "Fruits=['Apple','Banana','Grapes','Mango','Orange','Banana']\n",
    "Fruits"
   ]
  },
  {
   "cell_type": "code",
   "execution_count": 3,
   "id": "7ddf08a4",
   "metadata": {},
   "outputs": [],
   "source": [
    "Fruits.append(\"Guva\")"
   ]
  },
  {
   "cell_type": "code",
   "execution_count": 4,
   "id": "24dc7271",
   "metadata": {},
   "outputs": [
    {
     "data": {
      "text/plain": [
       "['Apple', 'Banana', 'Grapes', 'Mango', 'Orange', 'Banana', 'Guva']"
      ]
     },
     "execution_count": 4,
     "metadata": {},
     "output_type": "execute_result"
    }
   ],
   "source": [
    "Fruits"
   ]
  },
  {
   "cell_type": "code",
   "execution_count": 6,
   "id": "46780600",
   "metadata": {},
   "outputs": [],
   "source": [
    "Fruits1=Fruits.copy()"
   ]
  },
  {
   "cell_type": "code",
   "execution_count": 7,
   "id": "12a0bc51",
   "metadata": {},
   "outputs": [
    {
     "data": {
      "text/plain": [
       "['Apple', 'Banana', 'Grapes', 'Mango', 'Orange', 'Banana', 'Guva']"
      ]
     },
     "execution_count": 7,
     "metadata": {},
     "output_type": "execute_result"
    }
   ],
   "source": [
    "Fruits1"
   ]
  },
  {
   "cell_type": "code",
   "execution_count": 8,
   "id": "5de8cad9",
   "metadata": {},
   "outputs": [],
   "source": [
    "Fruits1.clear()"
   ]
  },
  {
   "cell_type": "code",
   "execution_count": 9,
   "id": "6b4e0698",
   "metadata": {},
   "outputs": [
    {
     "data": {
      "text/plain": [
       "[]"
      ]
     },
     "execution_count": 9,
     "metadata": {},
     "output_type": "execute_result"
    }
   ],
   "source": [
    "Fruits1"
   ]
  },
  {
   "cell_type": "code",
   "execution_count": 12,
   "id": "0c260ed0",
   "metadata": {},
   "outputs": [],
   "source": [
    "Fruits=['Apple','Banana','Grapes','Mango','Orange','Banana']"
   ]
  },
  {
   "cell_type": "code",
   "execution_count": 13,
   "id": "fdc630ef",
   "metadata": {},
   "outputs": [
    {
     "data": {
      "text/plain": [
       "1"
      ]
     },
     "execution_count": 13,
     "metadata": {},
     "output_type": "execute_result"
    }
   ],
   "source": [
    "Fruits.count(\"Apple\")\n"
   ]
  },
  {
   "cell_type": "code",
   "execution_count": 17,
   "id": "9ee5c067",
   "metadata": {},
   "outputs": [
    {
     "data": {
      "text/plain": [
       "0"
      ]
     },
     "execution_count": 17,
     "metadata": {},
     "output_type": "execute_result"
    }
   ],
   "source": [
    "Fruits.index(\"Apple\")"
   ]
  },
  {
   "cell_type": "code",
   "execution_count": 18,
   "id": "5545cfca",
   "metadata": {},
   "outputs": [],
   "source": [
    "Fruits.insert(1,\"Guva\")"
   ]
  },
  {
   "cell_type": "code",
   "execution_count": 19,
   "id": "901b0caf",
   "metadata": {},
   "outputs": [
    {
     "data": {
      "text/plain": [
       "['Apple', 'Guva', 'Banana', 'Grapes', 'Mango', 'Orange', 'Banana']"
      ]
     },
     "execution_count": 19,
     "metadata": {},
     "output_type": "execute_result"
    }
   ],
   "source": [
    "Fruits"
   ]
  },
  {
   "cell_type": "code",
   "execution_count": 20,
   "id": "10f22f1d",
   "metadata": {},
   "outputs": [],
   "source": [
    "Fruits=['Apple','Banana','Grapes','Mango','Orange','Banana']"
   ]
  },
  {
   "cell_type": "code",
   "execution_count": 21,
   "id": "59c46ad5",
   "metadata": {},
   "outputs": [
    {
     "data": {
      "text/plain": [
       "'Banana'"
      ]
     },
     "execution_count": 21,
     "metadata": {},
     "output_type": "execute_result"
    }
   ],
   "source": [
    "Fruits.pop()"
   ]
  },
  {
   "cell_type": "code",
   "execution_count": 22,
   "id": "fc5f16a3",
   "metadata": {},
   "outputs": [
    {
     "data": {
      "text/plain": [
       "['Apple', 'Banana', 'Grapes', 'Mango', 'Orange']"
      ]
     },
     "execution_count": 22,
     "metadata": {},
     "output_type": "execute_result"
    }
   ],
   "source": [
    "Fruits"
   ]
  },
  {
   "cell_type": "code",
   "execution_count": 23,
   "id": "2ed24c64",
   "metadata": {},
   "outputs": [],
   "source": [
    "Fruits.insert(1,'Banaa')"
   ]
  },
  {
   "cell_type": "code",
   "execution_count": 24,
   "id": "05f7a747",
   "metadata": {},
   "outputs": [
    {
     "data": {
      "text/plain": [
       "['Apple', 'Banaa', 'Banana', 'Grapes', 'Mango', 'Orange']"
      ]
     },
     "execution_count": 24,
     "metadata": {},
     "output_type": "execute_result"
    }
   ],
   "source": [
    "Fruits"
   ]
  },
  {
   "cell_type": "code",
   "execution_count": 26,
   "id": "6ba423d1",
   "metadata": {},
   "outputs": [],
   "source": [
    "Fruits.remove(\"Banana\")"
   ]
  },
  {
   "cell_type": "code",
   "execution_count": 27,
   "id": "758d505e",
   "metadata": {},
   "outputs": [
    {
     "data": {
      "text/plain": [
       "['Apple', 'Banaa', 'Grapes', 'Mango', 'Orange']"
      ]
     },
     "execution_count": 27,
     "metadata": {},
     "output_type": "execute_result"
    }
   ],
   "source": [
    "Fruits"
   ]
  },
  {
   "cell_type": "code",
   "execution_count": 28,
   "id": "96ef1b3e",
   "metadata": {},
   "outputs": [],
   "source": [
    "Fruits.sort()"
   ]
  },
  {
   "cell_type": "code",
   "execution_count": 29,
   "id": "7de4b1e5",
   "metadata": {},
   "outputs": [
    {
     "data": {
      "text/plain": [
       "['Apple', 'Banaa', 'Grapes', 'Mango', 'Orange']"
      ]
     },
     "execution_count": 29,
     "metadata": {},
     "output_type": "execute_result"
    }
   ],
   "source": [
    "Fruits"
   ]
  },
  {
   "cell_type": "code",
   "execution_count": 30,
   "id": "4b7abbfb",
   "metadata": {},
   "outputs": [],
   "source": [
    "Fruits.reverse()"
   ]
  },
  {
   "cell_type": "code",
   "execution_count": 31,
   "id": "68e2704b",
   "metadata": {},
   "outputs": [
    {
     "data": {
      "text/plain": [
       "['Orange', 'Mango', 'Grapes', 'Banaa', 'Apple']"
      ]
     },
     "execution_count": 31,
     "metadata": {},
     "output_type": "execute_result"
    }
   ],
   "source": [
    "Fruits"
   ]
  },
  {
   "cell_type": "code",
   "execution_count": 33,
   "id": "4b7f85d7",
   "metadata": {},
   "outputs": [
    {
     "data": {
      "text/plain": [
       "['Orange', 'Mango', 'Grapes', 'Banaa', 'Apple']"
      ]
     },
     "execution_count": 33,
     "metadata": {},
     "output_type": "execute_result"
    }
   ],
   "source": [
    "Fruits[::1]"
   ]
  },
  {
   "cell_type": "code",
   "execution_count": 34,
   "id": "e3cc91c8",
   "metadata": {},
   "outputs": [
    {
     "data": {
      "text/plain": [
       "['Orange', 'Mango', 'Grapes', 'Banaa', 'Apple']"
      ]
     },
     "execution_count": 34,
     "metadata": {},
     "output_type": "execute_result"
    }
   ],
   "source": [
    "Fruits"
   ]
  },
  {
   "cell_type": "code",
   "execution_count": 43,
   "id": "a0fd34ed",
   "metadata": {},
   "outputs": [],
   "source": [
    "Veg=['Tomato','Potato','Brinjal']"
   ]
  },
  {
   "cell_type": "code",
   "execution_count": 5,
   "id": "8ed9faf4",
   "metadata": {},
   "outputs": [],
   "source": [
    "Fruits=['Apple','Banana','Grapes','Mango','Orange','Banana']"
   ]
  },
  {
   "cell_type": "code",
   "execution_count": 6,
   "id": "0754d33d",
   "metadata": {},
   "outputs": [
    {
     "data": {
      "text/plain": [
       "['Apple', 'Banana', 'Grapes', 'Mango', 'Orange', 'Banana']"
      ]
     },
     "execution_count": 6,
     "metadata": {},
     "output_type": "execute_result"
    }
   ],
   "source": [
    "Fruits"
   ]
  },
  {
   "cell_type": "code",
   "execution_count": 8,
   "id": "710d6c59",
   "metadata": {},
   "outputs": [],
   "source": [
    "Veg=['Tomato','Potato','Brinjal']"
   ]
  },
  {
   "cell_type": "code",
   "execution_count": 9,
   "id": "7fd187c1",
   "metadata": {},
   "outputs": [
    {
     "data": {
      "text/plain": [
       "['Tomato', 'Potato', 'Brinjal']"
      ]
     },
     "execution_count": 9,
     "metadata": {},
     "output_type": "execute_result"
    }
   ],
   "source": [
    "Veg"
   ]
  },
  {
   "cell_type": "code",
   "execution_count": 4,
   "id": "9ce444af",
   "metadata": {},
   "outputs": [
    {
     "name": "stdout",
     "output_type": "stream",
     "text": [
      "fruits\n"
     ]
    }
   ],
   "source": [
    "print('fruits')"
   ]
  },
  {
   "cell_type": "code",
   "execution_count": 7,
   "id": "4c7f78f4",
   "metadata": {},
   "outputs": [],
   "source": [
    "Fruits=['Apple','Banana','Grapes','Mango','Orange','Banana']"
   ]
  },
  {
   "cell_type": "code",
   "execution_count": 8,
   "id": "a829a68e",
   "metadata": {},
   "outputs": [],
   "source": [
    "Fruits.sort()"
   ]
  },
  {
   "cell_type": "code",
   "execution_count": 9,
   "id": "29ff51f2",
   "metadata": {},
   "outputs": [
    {
     "data": {
      "text/plain": [
       "['Apple', 'Banana', 'Banana', 'Grapes', 'Mango', 'Orange']"
      ]
     },
     "execution_count": 9,
     "metadata": {},
     "output_type": "execute_result"
    }
   ],
   "source": [
    "Fruits"
   ]
  },
  {
   "cell_type": "code",
   "execution_count": 10,
   "id": "e9396d1a",
   "metadata": {},
   "outputs": [
    {
     "data": {
      "text/plain": [
       "['Apple', 'Banana', 'Banana', 'Grapes', 'Mango', 'Orange']"
      ]
     },
     "execution_count": 10,
     "metadata": {},
     "output_type": "execute_result"
    }
   ],
   "source": [
    "Fruits"
   ]
  },
  {
   "cell_type": "code",
   "execution_count": 12,
   "id": "98f93f36",
   "metadata": {},
   "outputs": [
    {
     "data": {
      "text/plain": [
       "['1', '2', '3', '4']"
      ]
     },
     "execution_count": 12,
     "metadata": {},
     "output_type": "execute_result"
    }
   ],
   "source": [
    "Num=['1','2','3','4']\n",
    "Num"
   ]
  },
  {
   "cell_type": "code",
   "execution_count": 13,
   "id": "1c35d394",
   "metadata": {},
   "outputs": [],
   "source": [
    "Fruits.extend(Num)"
   ]
  },
  {
   "cell_type": "code",
   "execution_count": 14,
   "id": "de4368ef",
   "metadata": {},
   "outputs": [
    {
     "data": {
      "text/plain": [
       "['Apple', 'Banana', 'Banana', 'Grapes', 'Mango', 'Orange', '1', '2', '3', '4']"
      ]
     },
     "execution_count": 14,
     "metadata": {},
     "output_type": "execute_result"
    }
   ],
   "source": [
    "Fruits"
   ]
  },
  {
   "cell_type": "code",
   "execution_count": 2,
   "id": "361a94d8",
   "metadata": {},
   "outputs": [],
   "source": [
    "Fruits=['Apple','Banana','Grapes','Mango','Orange','Banana']"
   ]
  },
  {
   "cell_type": "code",
   "execution_count": 3,
   "id": "78c3835f",
   "metadata": {},
   "outputs": [
    {
     "data": {
      "text/plain": [
       "['Apple', 'Banana', 'Grapes', 'Mango', 'Orange', 'Banana']"
      ]
     },
     "execution_count": 3,
     "metadata": {},
     "output_type": "execute_result"
    }
   ],
   "source": [
    "Fruits[::1]"
   ]
  },
  {
   "cell_type": "code",
   "execution_count": 4,
   "id": "02f71f45",
   "metadata": {},
   "outputs": [
    {
     "data": {
      "text/plain": [
       "['Banana', 'Orange', 'Mango', 'Grapes', 'Banana', 'Apple']"
      ]
     },
     "execution_count": 4,
     "metadata": {},
     "output_type": "execute_result"
    }
   ],
   "source": [
    "Fruits[::-1]"
   ]
  },
  {
   "cell_type": "code",
   "execution_count": null,
   "id": "dc4f4121",
   "metadata": {},
   "outputs": [],
   "source": []
  }
 ],
 "metadata": {
  "kernelspec": {
   "display_name": "Python 3",
   "language": "python",
   "name": "python3"
  },
  "language_info": {
   "codemirror_mode": {
    "name": "ipython",
    "version": 3
   },
   "file_extension": ".py",
   "mimetype": "text/x-python",
   "name": "python",
   "nbconvert_exporter": "python",
   "pygments_lexer": "ipython3",
   "version": "3.12.10"
  }
 },
 "nbformat": 4,
 "nbformat_minor": 5
}
